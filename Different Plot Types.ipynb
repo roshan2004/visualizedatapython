{
 "cells": [
  {
   "cell_type": "code",
   "execution_count": 21,
   "metadata": {},
   "outputs": [],
   "source": [
    "import numpy as np\n",
    "import pandas as pd\n",
    "from matplotlib import pyplot as plt"
   ]
  },
  {
   "cell_type": "markdown",
   "metadata": {},
   "source": [
    "### Simple Bar Chart"
   ]
  },
  {
   "cell_type": "code",
   "execution_count": 29,
   "metadata": {},
   "outputs": [
    {
     "data": {
      "text/plain": [
       "([<matplotlib.axis.XTick at 0x7fe790835410>,\n",
       "  <matplotlib.axis.XTick at 0x7fe7907bb050>,\n",
       "  <matplotlib.axis.XTick at 0x7fe7907b8bd0>,\n",
       "  <matplotlib.axis.XTick at 0x7fe7907f08d0>,\n",
       "  <matplotlib.axis.XTick at 0x7fe7907f0e10>,\n",
       "  <matplotlib.axis.XTick at 0x7fe79077a390>],\n",
       " [Text(0, 0, 'cappuccino'),\n",
       "  Text(0, 0, 'latte'),\n",
       "  Text(0, 0, 'chai'),\n",
       "  Text(0, 0, 'americano'),\n",
       "  Text(0, 0, 'mocha'),\n",
       "  Text(0, 0, 'espresso')])"
      ]
     },
     "execution_count": 29,
     "metadata": {},
     "output_type": "execute_result"
    },
    {
     "data": {
      "image/png": "[encoded data removed]",
      "text/plain": [
       "<Figure size 432x288 with 1 Axes>"
      ]
     },
     "metadata": {
      "needs_background": "light"
     },
     "output_type": "display_data"
    }
   ],
   "source": [
    "drinks = [\"cappuccino\", \"latte\", \"chai\", \"americano\", \"mocha\", \"espresso\"]\n",
    "sales =  [91, 76, 56, 66, 52, 27]\n",
    "barlist = plt.bar(range(1,len(drinks)+1), sales)\n",
    "color_list = list('rgbkym')\n",
    "for i in range(len(color_list)):\n",
    "    barlist[i].set_color(color_list[i])\n",
    "\n",
    "plt.ylabel('Sales')\n",
    "plt.xlabel('Drinks')\n",
    "ax = plt.gca()\n",
    "ax.tick_params(axis='x', colors='black')\n",
    "ax.tick_params(axis='y', colors='black')\n",
    "plt.xticks(range(1,len(drinks)+1), drinks)\n"
   ]
  },
  {
   "cell_type": "markdown",
   "metadata": {},
   "source": [
    "### Simple Bar Chart II"
   ]
  },
  {
   "cell_type": "code",
   "execution_count": 32,
   "metadata": {},
   "outputs": [
    {
     "data": {
      "text/plain": [
       "Text(0, 0.5, 'Days in the year')"
      ]
     },
     "execution_count": 32,
     "metadata": {},
     "output_type": "execute_result"
    },
    {
     "data": {
      "image/png": "[encoded data removed]",
      "text/plain": [
       "<Figure size 432x288 with 1 Axes>"
      ]
     },
     "metadata": {
      "needs_background": "light"
     },
     "output_type": "display_data"
    }
   ],
   "source": [
    "# create an axes object\n",
    "ax = plt.subplot()\n",
    "# Set the x-tick positions using a list of numbers\n",
    "ax.set_xticks([0, 1, 2, 3, 4, 5, 6, 7, 8])\n",
    "# Set the x-tick labels using a list of strings\n",
    "ax.set_xticklabels(['Mercury', 'Venus', 'Earth', 'Mars', 'Jupiter', 'Saturn', 'Uranus', 'Neptune', 'Pluto'])\n",
    "# If your labels are particularly long, you can use the rotation keyword to rotate your labels by a specified number of degrees:\n",
    "ax.set_xticklabels(['Mercury', 'Venus', 'Earth', 'Mars', 'Jupiter', 'Saturn', 'Uranus', 'Neptune', 'Pluto'],\n",
    "rotation=30)\n",
    "days_in_year = [88, 225, 365, 687, 4333, 10759, 30687, 60190, 90600]\n",
    "plt.bar(range(len(days_in_year)), days_in_year)\n",
    "plt.xlabel('Planets')\n",
    "plt.ylabel('Days in the year')"
   ]
  },
  {
   "cell_type": "code",
   "execution_count": 44,
   "metadata": {},
   "outputs": [
    {
     "data": {
      "image/png": "[encoded data removed]",
      "text/plain": [
       "<Figure size 432x288 with 1 Axes>"
      ]
     },
     "metadata": {
      "needs_background": "light"
     },
     "output_type": "display_data"
    }
   ],
   "source": [
    "drinks = [\"cappuccino\", \"latte\", \"chai\", \"americano\", \"mocha\", \"espresso\"]\n",
    "sales =  [91, 76, 56, 66, 52, 27]\n",
    "ax = plt.subplot()\n",
    "ax.set_xticks(range(len(drinks)))\n",
    "ax.set_xticklabels(drinks)\n",
    "\n",
    "plt.xlabel('drinks')\n",
    "plt.ylabel('sales')\n",
    "barlist = plt.bar(range(len(drinks)), sales)\n",
    "color_list = list('rgbkym')\n",
    "for i in range(len(color_list)):\n",
    "    barlist[i].set_color(color_list[i])\n",
    "ax.tick_params(axis='x', colors='black')\n",
    "ax.tick_params(axis='y', colors='black')\n"
   ]
  },
  {
   "cell_type": "code",
   "execution_count": null,
   "metadata": {},
   "outputs": [],
   "source": []
  }
 ],
 "metadata": {
  "kernelspec": {
   "display_name": "Python 3.7.4 64-bit ('base': conda)",
   "language": "python",
   "name": "python37464bitbaseconda1eb60c76e02b4ba9a2a4c9ec9b1fa267"
  },
  "language_info": {
   "codemirror_mode": {
    "name": "ipython",
    "version": 3
   },
   "file_extension": ".py",
   "mimetype": "text/x-python",
   "name": "python",
   "nbconvert_exporter": "python",
   "pygments_lexer": "ipython3",
   "version": "3.7.4"
  }
 },
 "nbformat": 4,
 "nbformat_minor": 4
}
